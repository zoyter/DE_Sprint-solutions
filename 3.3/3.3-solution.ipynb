{
 "cells": [
  {
   "cell_type": "markdown",
   "id": "367f82a4",
   "metadata": {},
   "source": [
    "# Инициализация необходимых вещей"
   ]
  },
  {
   "cell_type": "code",
   "execution_count": 26,
   "id": "9283c76b",
   "metadata": {},
   "outputs": [],
   "source": [
    "# Библиотеки\n",
    "from pyspark.sql import SparkSession\n",
    "import pyspark.sql.types as T\n",
    "import pyspark.sql.functions as F\n",
    "from datetime import date\n",
    "from pyspark.sql import Window"
   ]
  },
  {
   "cell_type": "code",
   "execution_count": 27,
   "id": "3a782b45",
   "metadata": {},
   "outputs": [],
   "source": [
    "# Сессия SparkSession\n",
    "spark = SparkSession.\\\n",
    "        builder.\\\n",
    "        appName(\"pyspark-notebook\").\\\n",
    "        master(\"spark://spark-master:7077\").\\\n",
    "        config(\"spark.executor.memory\", \"512m\").\\\n",
    "        getOrCreate()"
   ]
  },
  {
   "cell_type": "markdown",
   "id": "12571a81",
   "metadata": {},
   "source": [
    "## a. Создайте схему будущего фрейма данных. Схема должна включать следующие атрибуты:\n",
    "\n",
    "- id -  уникальный идентификатор посетителя сайта. Тип – последовательность чисел фиксированной длины. Данное поле не является первичным ключом.\n",
    "- timestamp – дата и время события в формате unix timestamp.\n",
    "- type – тип события, значение из списка (факт посещения(visit), клик по визуальному элементу страницы(click), скролл(scroll), перед на другую страницу(move)).\n",
    "- page_id – id текущей страницы. Тип - последовательность чисел фиксированной длины.\n",
    "- tag – каждая страница с новостью размечается редакцией специальными тегами, которые отражают тематику конкретной новости со страницы. Возможный список тематик: политика, спорт, медицина и т.д.\n",
    "- sign – наличие у пользователя личного кабинета. Значения – True/False."
   ]
  },
  {
   "cell_type": "code",
   "execution_count": 33,
   "id": "7c60cf2e",
   "metadata": {},
   "outputs": [],
   "source": [
    "# Схема данных\n",
    "schema_site = T.StructType([\n",
    "    T.StructField(\"id\", T.IntegerType(), True),\n",
    "    T.StructField(\"timestamp\", T.LongType(), True),\n",
    "    T.StructField(\"type\", T.StringType(), True),\n",
    "    T.StructField(\"page_id\", T.IntegerType(), True),\n",
    "    T.StructField(\"tag\", T.StringType(), True),\n",
    "    T.StructField(\"sign\", T.BooleanType(), True)\n",
    "])"
   ]
  },
  {
   "cell_type": "markdown",
   "id": "44c48b25",
   "metadata": {},
   "source": [
    "## c. Наполните датафрейм данными. Пример:\n",
    "\n",
    "    (12345, 1667627426, \"click\", 101, \"Sport”, False)"
   ]
  },
  {
   "cell_type": "code",
   "execution_count": 34,
   "id": "87dd7b76",
   "metadata": {},
   "outputs": [],
   "source": [
    "# Данные для фрейма\n",
    "data_site = [\n",
    "    (12345, 1667027426, 'click', 101, 'Sport', True),\n",
    "    (12345, 1667127426, 'click', 101, 'Politics', True),\n",
    "    (45678, 1667127526, 'scroll', 101, 'Medicine', True),\n",
    "    (63435, 1667327426, 'click', 102, 'Medicine', True),\n",
    "    (35678, 1667427426, 'click', 102, 'Sport', True),\n",
    "    (20917, 1667527426, 'click', 102, 'Politics', True),\n",
    "    (12345, 1667627426, 'move', 103, 'Sport', True), \n",
    "    (76654, 1667727426, 'visit', 104, 'Politics', False),\n",
    "    (26389, 1667827426, 'click', 105, 'Sport', False),\n",
    "    (45845, 1667927426, 'click', 103, 'Medicine', True),\n",
    "]"
   ]
  },
  {
   "cell_type": "markdown",
   "id": "4ad2d13c",
   "metadata": {},
   "source": [
    "## b. Создайте датафрейм с описанной выше схемой данных."
   ]
  },
  {
   "cell_type": "code",
   "execution_count": 30,
   "id": "d4d4cec6",
   "metadata": {},
   "outputs": [],
   "source": [
    "# Собственно создаём фрем\n",
    "df_site = spark.createDataFrame(data = data_site, schema = schema_site)"
   ]
  },
  {
   "cell_type": "code",
   "execution_count": 31,
   "id": "24f51372",
   "metadata": {},
   "outputs": [
    {
     "name": "stdout",
     "output_type": "stream",
     "text": [
      "+-----+----------+------+-------+--------+-----+\n",
      "|   id| timestamp|  type|page_id|     tag| sign|\n",
      "+-----+----------+------+-------+--------+-----+\n",
      "|12345|1667027426| click|    101|   Sport| true|\n",
      "|12345|1667127426| click|    101|Politics| true|\n",
      "|45678|1667127526|scroll|    101|Medicine| true|\n",
      "|63435|1667327426| click|    102|Medicine| true|\n",
      "|35678|1667427426| click|    102|   Sport| true|\n",
      "|20917|1667527426| click|    102|Politics| true|\n",
      "|12345|1667627426|  move|    103|   Sport| true|\n",
      "|76654|1667727426| visit|    104|Politics|false|\n",
      "|26389|1667827426| click|    105|   Sport|false|\n",
      "|45845|1667927426| click|    103|Medicine| true|\n",
      "+-----+----------+------+-------+--------+-----+\n",
      "\n"
     ]
    }
   ],
   "source": [
    "# Смотрим что у него внутри\n",
    "df_site.show()"
   ]
  },
  {
   "cell_type": "markdown",
   "id": "828114a4",
   "metadata": {},
   "source": [
    "## Преобразование даты в удобный формат"
   ]
  },
  {
   "cell_type": "code",
   "execution_count": 32,
   "id": "69681d36",
   "metadata": {},
   "outputs": [
    {
     "name": "stdout",
     "output_type": "stream",
     "text": [
      "+-----+------+-------+--------+-----+-------------------+\n",
      "|   id|  type|page_id|     tag| sign|         event_time|\n",
      "+-----+------+-------+--------+-----+-------------------+\n",
      "|12345| click|    101|   Sport| true|2022-10-29 07:10:26|\n",
      "|12345| click|    101|Politics| true|2022-10-30 10:57:06|\n",
      "|45678|scroll|    101|Medicine| true|2022-10-30 10:58:46|\n",
      "|63435| click|    102|Medicine| true|2022-11-01 18:30:26|\n",
      "|35678| click|    102|   Sport| true|2022-11-02 22:17:06|\n",
      "|20917| click|    102|Politics| true|2022-11-04 02:03:46|\n",
      "|12345|  move|    103|   Sport| true|2022-11-05 05:50:26|\n",
      "|76654| visit|    104|Politics|false|2022-11-06 09:37:06|\n",
      "|26389| click|    105|   Sport|false|2022-11-07 13:23:46|\n",
      "|45845| click|    103|Medicine| true|2022-11-08 17:10:26|\n",
      "+-----+------+-------+--------+-----+-------------------+\n",
      "\n"
     ]
    }
   ],
   "source": [
    "# Трансформируем метку даты в юник формат\n",
    "df_site = df_site.select(*[i for i in df_site.columns if i != \"timestamp\"], F.from_unixtime(\"timestamp\").alias(\"event_time\"))\n",
    "df_site.show()"
   ]
  },
  {
   "cell_type": "markdown",
   "id": "f70d207a",
   "metadata": {},
   "source": [
    "# d. Решите следующие задачи:\n",
    "\n",
    "## d.1 Вывести топ-5 самых активных посетителей сайта"
   ]
  },
  {
   "cell_type": "code",
   "execution_count": 38,
   "id": "f4444f4d",
   "metadata": {},
   "outputs": [
    {
     "name": "stderr",
     "output_type": "stream",
     "text": [
      "[Stage 20:===================================>                  (133 + 3) / 200]\r"
     ]
    },
    {
     "name": "stdout",
     "output_type": "stream",
     "text": [
      "+-----+-----+\n",
      "|   id|activ|\n",
      "+-----+-----+\n",
      "|12345|    3|\n",
      "|45678|    1|\n",
      "|20917|    1|\n",
      "|63435|    1|\n",
      "|76654|    1|\n",
      "+-----+-----+\n",
      "only showing top 5 rows\n",
      "\n"
     ]
    },
    {
     "name": "stderr",
     "output_type": "stream",
     "text": [
      "                                                                                \r"
     ]
    }
   ],
   "source": [
    "df_site.groupby(\"id\")\\\n",
    "    .agg(F.count(\"*\").alias(\"activ\"))\\\n",
    "    .orderBy(\"activ\", ascending = False)\\\n",
    "    .show(5)"
   ]
  },
  {
   "cell_type": "markdown",
   "id": "0025401d",
   "metadata": {},
   "source": [
    "## d.2 Посчитать процент посетителей, у которых есть ЛК"
   ]
  },
  {
   "cell_type": "code",
   "execution_count": 39,
   "id": "35079ba2",
   "metadata": {},
   "outputs": [
    {
     "name": "stderr",
     "output_type": "stream",
     "text": [
      "22/12/23 18:07:30 WARN WindowExec: No Partition Defined for Window operation! Moving all data to a single partition, this can cause serious performance degradation.\n",
      "[Stage 22:===================================================>  (191 + 2) / 200]\r"
     ]
    },
    {
     "name": "stdout",
     "output_type": "stream",
     "text": [
      "+----+-------+\n",
      "|sign|percent|\n",
      "+----+-------+\n",
      "|true|   80.0|\n",
      "+----+-------+\n",
      "\n"
     ]
    },
    {
     "name": "stderr",
     "output_type": "stream",
     "text": [
      "                                                                                \r"
     ]
    }
   ],
   "source": [
    "prc_lk = df_site.groupBy('sign')\\\n",
    "    .agg(F.count('*').alias('all'))\\\n",
    "    .withColumn('total', F.sum('all').over(Window.partitionBy()))\\\n",
    "    .withColumn('percent',F.col('all')/F.col('total')*100)\n",
    "prc_lk.select('sign','percent').filter(df_site.sign == True).show()"
   ]
  },
  {
   "cell_type": "markdown",
   "id": "cd45b7b4",
   "metadata": {},
   "source": [
    "## d.3 Вывести топ-5 страниц сайта по показателю общего кол-ва кликов на данной странице"
   ]
  },
  {
   "cell_type": "code",
   "execution_count": 295,
   "id": "99b02c7b",
   "metadata": {},
   "outputs": [
    {
     "name": "stderr",
     "output_type": "stream",
     "text": [
      "[Stage 641:==============================================>      (174 + 2) / 200]\r"
     ]
    },
    {
     "name": "stdout",
     "output_type": "stream",
     "text": [
      "+-------+-----+---------+\n",
      "|page_id| type|num_click|\n",
      "+-------+-----+---------+\n",
      "|    102|click|        3|\n",
      "|    101|click|        2|\n",
      "|    105|click|        1|\n",
      "|    103|click|        1|\n",
      "+-------+-----+---------+\n",
      "\n"
     ]
    },
    {
     "name": "stderr",
     "output_type": "stream",
     "text": [
      "                                                                                \r"
     ]
    }
   ],
   "source": [
    "df_site.groupby(\"page_id\", \"type\")\\\n",
    "       .agg(F.count(\"*\").alias(\"num_click\"))\\\n",
    "       .orderBy(\"num_click\", ascending = False)\\\n",
    "       .filter(F.col('type') == 'click')\\\n",
    "       .show(5)"
   ]
  },
  {
   "cell_type": "markdown",
   "id": "0ca3f9b8",
   "metadata": {},
   "source": [
    "## d.4 Добавьте столбец к фрейму данных со значением временного диапазона в рамках суток с размером окна – 4 часа(0-4, 4-8, 8-12 и т.д.)"
   ]
  },
  {
   "cell_type": "code",
   "execution_count": 40,
   "id": "b9fab2d6",
   "metadata": {},
   "outputs": [
    {
     "name": "stdout",
     "output_type": "stream",
     "text": [
      "+-----+------+-------+--------+-----+-------------------+----+\n",
      "|   id|  type|page_id|     tag| sign|         event_time|rang|\n",
      "+-----+------+-------+--------+-----+-------------------+----+\n",
      "|12345| click|    101|   Sport| true|2022-10-29 07:10:26|   2|\n",
      "|12345| click|    101|Politics| true|2022-10-30 10:57:06|   3|\n",
      "|45678|scroll|    101|Medicine| true|2022-10-30 10:58:46|   3|\n",
      "|63435| click|    102|Medicine| true|2022-11-01 18:30:26|   5|\n",
      "|35678| click|    102|   Sport| true|2022-11-02 22:17:06|   6|\n",
      "|20917| click|    102|Politics| true|2022-11-04 02:03:46|   1|\n",
      "|12345|  move|    103|   Sport| true|2022-11-05 05:50:26|   2|\n",
      "|76654| visit|    104|Politics|false|2022-11-06 09:37:06|   3|\n",
      "|26389| click|    105|   Sport|false|2022-11-07 13:23:46|   4|\n",
      "|45845| click|    103|Medicine| true|2022-11-08 17:10:26|   5|\n",
      "+-----+------+-------+--------+-----+-------------------+----+\n",
      "\n"
     ]
    }
   ],
   "source": [
    "df_time = df_site.withColumn(\"rang\", F.floor(F.hour(\"event_time\") / F.lit(4))+1)\n",
    "df_time.show()"
   ]
  },
  {
   "cell_type": "markdown",
   "id": "a541f000",
   "metadata": {},
   "source": [
    "## d.5 Выведите временной промежуток на основе предыдущего задания, в течение которого было больше всего активностей на сайте. "
   ]
  },
  {
   "cell_type": "code",
   "execution_count": 41,
   "id": "a1e16d25",
   "metadata": {},
   "outputs": [
    {
     "name": "stderr",
     "output_type": "stream",
     "text": [
      "[Stage 27:===============================================>      (175 + 2) / 200]\r"
     ]
    },
    {
     "name": "stdout",
     "output_type": "stream",
     "text": [
      "+--------+\n",
      "|rang_max|\n",
      "+--------+\n",
      "|       3|\n",
      "+--------+\n",
      "\n"
     ]
    },
    {
     "name": "stderr",
     "output_type": "stream",
     "text": [
      "                                                                                \r"
     ]
    }
   ],
   "source": [
    "df_time.groupBy(\"rang\")\\\n",
    "    .agg(F.count(\"*\").alias(\"num_time\"))\\\n",
    "    .select(F.max(\"num_time\").alias(\"rang_max\"))\\\n",
    "    .show()"
   ]
  },
  {
   "cell_type": "markdown",
   "id": "fe60d82b",
   "metadata": {},
   "source": [
    "## d.6 Создайте второй фрейм данных, который будет содержать информацию о ЛК посетителя сайта со следующим списком атрибутов\n",
    "\n",
    "1. Id – уникальный идентификатор личного кабинета\n",
    "2. User_id – уникальный идентификатор посетителя\n",
    "3. ФИО посетителя\n",
    "4. Дату рождения посетителя \n",
    "5. Дата создания ЛК"
   ]
  },
  {
   "cell_type": "code",
   "execution_count": 42,
   "id": "c0c25ac9",
   "metadata": {},
   "outputs": [],
   "source": [
    "Schema_lk = T.StructType([\n",
    "    T.StructField(\"id_lk\", T.IntegerType(), True),\n",
    "    T.StructField(\"User_id\", T.IntegerType(), True),\n",
    "    T.StructField(\"FIO\", T.StringType(), True),\n",
    "    T.StructField(\"Date_birth\", T.DateType(), True),\n",
    "    T.StructField(\"Date_creation\", T.DateType(), True)\n",
    "])"
   ]
  },
  {
   "cell_type": "code",
   "execution_count": 44,
   "id": "0869bb32",
   "metadata": {},
   "outputs": [],
   "source": [
    "data_lk = [\n",
    "    (1, 12345, \"Иванов Иван Иванович\", date(1990, 1, 1),date(2020, 1, 1)), \n",
    "    (2, 45845, \"Петров Пётр Петрович\", date(1991, 2, 2),date(2021, 2, 2)),\n",
    "    (3, 35678, \"Сидоров Сидор Сидорович\", date(1995, 3, 3),date(2021, 3, 3)),\n",
    "    (4, 43218, \"Кузнецов Пётр Сизорович\", date(1993, 4, 4),date(2022, 4, 4))\n",
    "]"
   ]
  },
  {
   "cell_type": "code",
   "execution_count": 45,
   "id": "8f931778",
   "metadata": {},
   "outputs": [],
   "source": [
    "df_lk = spark.createDataFrame(data = data_lk, schema = Schema_lk)"
   ]
  },
  {
   "cell_type": "code",
   "execution_count": 46,
   "id": "343714d4",
   "metadata": {},
   "outputs": [
    {
     "name": "stdout",
     "output_type": "stream",
     "text": [
      "+-----+-------+--------------------+----------+-------------+\n",
      "|id_lk|User_id|                 FIO|Date_birth|Date_creation|\n",
      "+-----+-------+--------------------+----------+-------------+\n",
      "|    1|  12345|Иванов Иван Иванович|1990-01-01|   2020-01-01|\n",
      "|    2|  45845|Петров Пётр Петрович|1991-02-02|   2021-02-02|\n",
      "|    3|  35678|Сидоров Сидор Сид...|1995-03-03|   2021-03-03|\n",
      "|    4|  43218|Кузнецов Пётр Сиз...|1993-04-04|   2022-04-04|\n",
      "+-----+-------+--------------------+----------+-------------+\n",
      "\n"
     ]
    }
   ],
   "source": [
    "df_lk.show()"
   ]
  },
  {
   "cell_type": "markdown",
   "id": "c92bb2c1",
   "metadata": {},
   "source": [
    "# Вывести фамилии посетителей, которые читали хотя бы одну новость про спорт"
   ]
  },
  {
   "cell_type": "code",
   "execution_count": 299,
   "id": "563a5b10",
   "metadata": {},
   "outputs": [
    {
     "name": "stderr",
     "output_type": "stream",
     "text": [
      "                                                                                \r"
     ]
    },
    {
     "name": "stdout",
     "output_type": "stream",
     "text": [
      "+-----+-------+--------------------+----------+-------------+-----+------+-------+--------+----+-------------------+\n",
      "|id_lk|User_id|                 FIO|Date_birth|Date_creation|   id|  type|page_id|     tag|sign|         event_time|\n",
      "+-----+-------+--------------------+----------+-------------+-----+------+-------+--------+----+-------------------+\n",
      "|    4|  43218|Сазонова Ирина Пе...|1993-01-21|   2022-02-12|43218| click|    102|Politics|true|2022-11-04 02:03:46|\n",
      "|    2|  45845|Петрова Елена Ива...|1991-11-20|   2021-08-04|45845| click|    103|Medicine|true|2022-11-08 17:10:26|\n",
      "|    2|  45845|Петрова Елена Ива...|1991-11-20|   2021-08-04|45845|scroll|    101|Medicine|true|2022-10-30 10:58:46|\n",
      "|    1|  12345|Иванов Иван Иванович|1990-04-14|   2020-06-16|12345|  move|    103|   Sport|true|2022-11-05 05:50:26|\n",
      "|    1|  12345|Иванов Иван Иванович|1990-04-14|   2020-06-16|12345| click|    101|   Sport|true|2022-10-29 07:10:26|\n",
      "|    1|  12345|Иванов Иван Иванович|1990-04-14|   2020-06-16|12345| click|    101|Politics|true|2022-10-30 10:57:06|\n",
      "|    1|  12345|Иванов Иван Иванович|1990-04-14|   2020-06-16|12345| click|    102|Medicine|true|2022-11-01 18:30:26|\n",
      "|    3|  35678|Сидоров Петр Серг...|1995-05-15|   2021-12-10|35678| click|    102|   Sport|true|2022-11-02 22:17:06|\n",
      "+-----+-------+--------------------+----------+-------------+-----+------+-------+--------+----+-------------------+\n",
      "\n"
     ]
    },
    {
     "name": "stderr",
     "output_type": "stream",
     "text": [
      "                                                                                \r"
     ]
    },
    {
     "name": "stdout",
     "output_type": "stream",
     "text": [
      "+----------+\n",
      "|First_Name|\n",
      "+----------+\n",
      "|   Сидоров|\n",
      "|    Иванов|\n",
      "+----------+\n",
      "\n"
     ]
    }
   ],
   "source": [
    "df_all = df_lk.join(df_site, df_lk.User_id == df_site.id)\n",
    "df_all.show()\n",
    "df_all.withColumn('First_Name', F.split('FIO', ' ')[0])\\\n",
    "      .select(F.col('First_Name')).filter(df_all.tag == 'Sport')\\\n",
    "      .distinct()\\\n",
    "      .show()"
   ]
  },
  {
   "cell_type": "code",
   "execution_count": null,
   "id": "012350aa",
   "metadata": {},
   "outputs": [],
   "source": []
  },
  {
   "cell_type": "code",
   "execution_count": null,
   "id": "b1dbd8dd",
   "metadata": {},
   "outputs": [],
   "source": []
  }
 ],
 "metadata": {
  "kernelspec": {
   "display_name": "Python 3 (ipykernel)",
   "language": "python",
   "name": "python3"
  },
  "language_info": {
   "codemirror_mode": {
    "name": "ipython",
    "version": 3
   },
   "file_extension": ".py",
   "mimetype": "text/x-python",
   "name": "python",
   "nbconvert_exporter": "python",
   "pygments_lexer": "ipython3",
   "version": "3.9.2"
  }
 },
 "nbformat": 4,
 "nbformat_minor": 5
}
